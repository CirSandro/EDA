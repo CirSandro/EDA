{
  "cells": [
    {
      "cell_type": "code",
      "execution_count": 1,
      "metadata": {
        "id": "-lEzOq4SJf4m"
      },
      "outputs": [],
      "source": [
        "import pandas as pd\n",
        "import matplotlib.pyplot as plt\n",
        "import numpy as np\n",
        "import gzip\n",
        "import json\n",
        "from mlxtend.frequent_patterns import apriori\n",
        "from mlxtend.preprocessing import TransactionEncoder\n",
        "from collections import Counter, defaultdict\n",
        "from typing import List, Tuple, Dict\n",
        "from mlxtend.frequent_patterns import fpgrowth, apriori\n",
        "from mlxtend.preprocessing import TransactionEncoder"
      ]
    },
    {
      "cell_type": "code",
      "source": [
        "# Chargement et prétraitement des données\n",
        "def preprocess_data(df):\n",
        "    \"\"\"\n",
        "    Prétraite les données pour filtrer et restructurer les colonnes nécessaires.\n",
        "\n",
        "    Args:\n",
        "        df (pd.DataFrame): Données brutes.\n",
        "\n",
        "    Returns:\n",
        "        pd.DataFrame: Données prétraitées.\n",
        "    \"\"\"\n",
        "    # Suppression des doublons\n",
        "    df = df.drop_duplicates(subset=['user', 'item'])\n",
        "    return df"
      ],
      "metadata": {
        "colab": {
          "base_uri": "https://localhost:8080/"
        },
        "id": "xSVOI5xgZWUH",
        "outputId": "fe99c144-d613-4670-f9f1-7011c1eeabae"
      },
      "execution_count": 2,
      "outputs": [
        {
          "output_type": "stream",
          "name": "stderr",
          "text": [
            "/usr/local/lib/python3.10/dist-packages/ipykernel/ipkernel.py:283: DeprecationWarning: `should_run_async` will not call `transform_cell` automatically in the future. Please pass the result to `transformed_cell` argument and any exception that happen during thetransform in `preprocessing_exc_tuple` in IPython 7.17 and above.\n",
            "  and should_run_async(code)\n"
          ]
        }
      ]
    },
    {
      "cell_type": "code",
      "source": [
        "# Génération des transactions pour l'extraction de motifs\n",
        "def generate_transactions(df):\n",
        "    \"\"\"\n",
        "    Génère une liste de transactions à partir des données utilisateur-item.\n",
        "\n",
        "    Args:\n",
        "        df (pd.DataFrame): Données prétraitées.\n",
        "\n",
        "    Returns:\n",
        "        list: Liste de listes représentant les items achetés par utilisateur.\n",
        "    \"\"\"\n",
        "    transactions = df.groupby('user')['item'].apply(list).tolist()\n",
        "    print(f\"Nombre total de transactions : {len(transactions)}\")\n",
        "    print(f\"Nombre total d'items uniques : {len(set(item for sublist in transactions for item in sublist))}\")\n",
        "    return transactions"
      ],
      "metadata": {
        "colab": {
          "base_uri": "https://localhost:8080/"
        },
        "id": "I8HdJRKnZiBQ",
        "outputId": "10823718-1beb-4e98-dce3-10022089a8ee"
      },
      "execution_count": 3,
      "outputs": [
        {
          "output_type": "stream",
          "name": "stderr",
          "text": [
            "/usr/local/lib/python3.10/dist-packages/ipykernel/ipkernel.py:283: DeprecationWarning: `should_run_async` will not call `transform_cell` automatically in the future. Please pass the result to `transformed_cell` argument and any exception that happen during thetransform in `preprocessing_exc_tuple` in IPython 7.17 and above.\n",
            "  and should_run_async(code)\n"
          ]
        }
      ]
    },
    {
      "cell_type": "code",
      "source": [
        "# Extraction de motifs fréquents\n",
        "def extract_frequent_patterns(transactions, min_support=0.002, max_len=None):\n",
        "    \"\"\"\n",
        "    Extrait des motifs fréquents à l'aide de l'algorithme Apriori.\n",
        "\n",
        "    Args:\n",
        "        transactions (list): Liste des transactions.\n",
        "        min_support (float): Support minimum pour un motif fréquent.\n",
        "        max_len (int): Longueur maximale des motifs à considérer.\n",
        "\n",
        "    Returns:\n",
        "        pd.DataFrame: Motifs fréquents et leur support.\n",
        "    \"\"\"\n",
        "    print(max_len)\n",
        "    te = TransactionEncoder()\n",
        "    te_ary = te.fit(transactions).transform(transactions)\n",
        "    df_tf = pd.DataFrame(te_ary, columns=te.columns_)\n",
        "    print(\"let's go\")\n",
        "    frequent_patterns = apriori(df_tf, min_support=min_support, use_colnames=True, max_len=max_len)\n",
        "    print(f\"Nombre total de motifs fréquents trouvés : {len(frequent_patterns)}\")\n",
        "    frequent_patterns['length'] = frequent_patterns['itemsets'].apply(len)\n",
        "    max_length_generated = frequent_patterns['length'].max()\n",
        "    print(f\"Longueur maximale des motifs générés : {max_length_generated}\")\n",
        "    length_distribution = frequent_patterns['length'].value_counts()\n",
        "    print(length_distribution)\n",
        "    print(frequent_patterns)\n",
        "    return frequent_patterns"
      ],
      "metadata": {
        "colab": {
          "base_uri": "https://localhost:8080/"
        },
        "id": "5AmDY6LdZkVF",
        "outputId": "f96ce22c-bcc1-4c4f-97c7-3539d626fd83"
      },
      "execution_count": 4,
      "outputs": [
        {
          "output_type": "stream",
          "name": "stderr",
          "text": [
            "/usr/local/lib/python3.10/dist-packages/ipykernel/ipkernel.py:283: DeprecationWarning: `should_run_async` will not call `transform_cell` automatically in the future. Please pass the result to `transformed_cell` argument and any exception that happen during thetransform in `preprocessing_exc_tuple` in IPython 7.17 and above.\n",
            "  and should_run_async(code)\n"
          ]
        }
      ]
    },
    {
      "cell_type": "code",
      "source": [
        "import numpy as np\n",
        "\n",
        "def compute_weighted_utilities(df):\n",
        "    \"\"\"\n",
        "    Calcule l'utilité pondérée de chaque item en combinant la moyenne des notes et un poids basé sur le nombre de votes.\n",
        "\n",
        "    Args:\n",
        "        df (pd.DataFrame): Données prétraitées avec au moins les colonnes 'item', 'rating'.\n",
        "\n",
        "    Returns:\n",
        "        pd.Series: Utilité pondérée de chaque item.\n",
        "    \"\"\"\n",
        "    # Calculer le nombre de votes (fréquence des évaluations) pour chaque item\n",
        "    vote_counts = df.groupby('item')['rating'].count()\n",
        "\n",
        "    # Calculer la moyenne des notes pour chaque item\n",
        "    avg_ratings = df.groupby('item')['rating'].mean()\n",
        "\n",
        "    # Calculer l'utilité pondérée : Moyenne * log(1 + Nombre de votes)\n",
        "    weighted_utilities = avg_ratings * np.log1p(vote_counts)\n",
        "\n",
        "    return weighted_utilities\n"
      ],
      "metadata": {
        "colab": {
          "base_uri": "https://localhost:8080/"
        },
        "id": "veYIRx2BZmMn",
        "outputId": "5a5ad326-f4b6-4b18-d284-02631f795025"
      },
      "execution_count": 5,
      "outputs": [
        {
          "output_type": "stream",
          "name": "stderr",
          "text": [
            "/usr/local/lib/python3.10/dist-packages/ipykernel/ipkernel.py:283: DeprecationWarning: `should_run_async` will not call `transform_cell` automatically in the future. Please pass the result to `transformed_cell` argument and any exception that happen during thetransform in `preprocessing_exc_tuple` in IPython 7.17 and above.\n",
            "  and should_run_async(code)\n"
          ]
        }
      ]
    },
    {
      "cell_type": "code",
      "source": [
        "def qplus(\n",
        "    transactions: List[List[str]],\n",
        "    item_utilities: Dict[str, float],\n",
        "    min_utility: float,\n",
        "    use_avg_utility: bool = False,\n",
        "    max_len: int = None\n",
        ") -> List[Tuple[Tuple[str], float]]:\n",
        "    \"\"\"\n",
        "    Implémente l'algorithme QPlus pour extraire des motifs à forte utilité.\n",
        "\n",
        "    Args:\n",
        "        transactions (list): Liste des transactions (ou motifs générés).\n",
        "        item_utilities (dict): Utilité de chaque item.\n",
        "        min_utility (float): Seuil minimum pour considérer un motif utile.\n",
        "        use_avg_utility (bool): Si True, utilise l'utilité moyenne comme seuil.\n",
        "        max_len (int): Longueur maximale des motifs (None pour désactiver).\n",
        "\n",
        "    Returns:\n",
        "        List[Tuple[Tuple[str], float]]: Motifs à forte utilité triés par score d'utilité.\n",
        "    \"\"\"\n",
        "    from collections import defaultdict\n",
        "\n",
        "    utility_count = defaultdict(float)\n",
        "\n",
        "    # Calculer l'utilité pour les motifs\n",
        "    for transaction in transactions:\n",
        "        if max_len is not None and len(transaction) > max_len:\n",
        "            continue  # Ignorer les motifs trop longs\n",
        "        for item in transaction:\n",
        "            utility_count[item] += item_utilities.get(item, 0)\n",
        "\n",
        "    # Calculer l'utilité moyenne si nécessaire\n",
        "    avg_utility = sum(utility_count.values()) / len(utility_count) if use_avg_utility else None\n",
        "\n",
        "    # Filtrer les motifs\n",
        "    high_utility_patterns = [\n",
        "        (item, utility)\n",
        "        for item, utility in utility_count.items()\n",
        "        if utility >= (avg_utility if use_avg_utility else min_utility)\n",
        "    ]\n",
        "\n",
        "    return sorted(high_utility_patterns, key=lambda x: -x[1])\n",
        "\n"
      ],
      "metadata": {
        "colab": {
          "base_uri": "https://localhost:8080/"
        },
        "id": "I8PW9H0qZnio",
        "outputId": "224aba5f-a472-479d-ce94-575472cab600"
      },
      "execution_count": 6,
      "outputs": [
        {
          "output_type": "stream",
          "name": "stderr",
          "text": [
            "/usr/local/lib/python3.10/dist-packages/ipykernel/ipkernel.py:283: DeprecationWarning: `should_run_async` will not call `transform_cell` automatically in the future. Please pass the result to `transformed_cell` argument and any exception that happen during thetransform in `preprocessing_exc_tuple` in IPython 7.17 and above.\n",
            "  and should_run_async(code)\n"
          ]
        }
      ]
    },
    {
      "cell_type": "code",
      "source": [
        "def extract_motifs_on_demand(min_utility, high_utility_patterns):\n",
        "    \"\"\"\n",
        "    Extraction of high-utility patterns on demand.\n",
        "    \"\"\"\n",
        "    # Filter by utility\n",
        "    patterns = [pattern for pattern in high_utility_patterns if pattern[1] >= min_utility]\n",
        "\n",
        "    # Results\n",
        "    return patterns\n",
        "\n"
      ],
      "metadata": {
        "colab": {
          "base_uri": "https://localhost:8080/"
        },
        "id": "89kyosKsZpfj",
        "outputId": "082eff40-bb6c-4415-ad52-7c31b03ef76c"
      },
      "execution_count": 7,
      "outputs": [
        {
          "output_type": "stream",
          "name": "stderr",
          "text": [
            "/usr/local/lib/python3.10/dist-packages/ipykernel/ipkernel.py:283: DeprecationWarning: `should_run_async` will not call `transform_cell` automatically in the future. Please pass the result to `transformed_cell` argument and any exception that happen during thetransform in `preprocessing_exc_tuple` in IPython 7.17 and above.\n",
            "  and should_run_async(code)\n"
          ]
        }
      ]
    },
    {
      "cell_type": "code",
      "source": [
        "import random\n",
        "import matplotlib.pyplot as plt\n",
        "import pandas as pd\n",
        "\n",
        "# Extraction d'un échantillon\n",
        "def sample_patterns(high_utility_patterns, sample_size=1000):\n",
        "    return random.sample(high_utility_patterns, min(sample_size, len(high_utility_patterns)))\n",
        "\n",
        "# Analyse statistique\n",
        "def analyze_sample(patterns):\n",
        "    utilities = [utility for _, utility in patterns]\n",
        "    print(f\"Nombre total de motifs analysés : {len(patterns)}\")\n",
        "    print(f\"Moyenne des utilités : {pd.Series(utilities).mean():.4f}\")\n",
        "    print(f\"Médiane des utilités : {pd.Series(utilities).median():.4f}\")\n",
        "    print(f\"Écart-type des utilités : {pd.Series(utilities).std():.4f}\")\n",
        "    return utilities\n",
        "\n",
        "# Visualisation\n",
        "def plot_utilities(utilities):\n",
        "    plt.hist(utilities, bins=30, alpha=0.7, color='blue')\n",
        "    plt.title(\"Distribution des utilités des motifs\")\n",
        "    plt.xlabel(\"Utilité\")\n",
        "    plt.ylabel(\"Fréquence\")\n",
        "    plt.show()\n",
        "\n"
      ],
      "metadata": {
        "colab": {
          "base_uri": "https://localhost:8080/"
        },
        "id": "NTf9l8f9ZrkN",
        "outputId": "4a1f806f-cbb0-47f5-bfe1-58f42b521155"
      },
      "execution_count": 8,
      "outputs": [
        {
          "output_type": "stream",
          "name": "stderr",
          "text": [
            "/usr/local/lib/python3.10/dist-packages/ipykernel/ipkernel.py:283: DeprecationWarning: `should_run_async` will not call `transform_cell` automatically in the future. Please pass the result to `transformed_cell` argument and any exception that happen during thetransform in `preprocessing_exc_tuple` in IPython 7.17 and above.\n",
            "  and should_run_async(code)\n"
          ]
        }
      ]
    },
    {
      "cell_type": "code",
      "source": [
        "import os\n",
        "\n",
        "def process_on_disk(transactions, item_utilities, min_utility, chunk_size=1000):\n",
        "    \"\"\"\n",
        "    Simule un traitement on-disk en utilisant un fichier intermédiaire.\n",
        "\n",
        "    Args:\n",
        "        transactions (list): Liste de transactions.\n",
        "        item_utilities (dict): Utilité des items.\n",
        "        min_utility (float): Seuil minimal d'utilité.\n",
        "        chunk_size (int): Taille du lot (batch) à traiter.\n",
        "\n",
        "    Returns:\n",
        "        list: Motifs à forte utilité.\n",
        "    \"\"\"\n",
        "    temp_file = \"temp_transactions.txt\"\n",
        "\n",
        "    # Écrire les transactions sur un fichier temporaire\n",
        "    with open(temp_file, \"w\") as f:\n",
        "        for transaction in transactions:\n",
        "            f.write(\",\".join(transaction) + \"\\n\")\n",
        "\n",
        "    high_utility_patterns = []\n",
        "\n",
        "    # Lire le fichier par lots et traiter\n",
        "    with open(temp_file, \"r\") as f:\n",
        "        while chunk := f.readlines(chunk_size):\n",
        "            chunk_transactions = [line.strip().split(\",\") for line in chunk]\n",
        "            # Appeler QPlus ou tout autre traitement sur les lots\n",
        "            batch_patterns = qplus(chunk_transactions, item_utilities, min_utility)\n",
        "            high_utility_patterns.extend(batch_patterns)\n",
        "\n",
        "    os.remove(temp_file)  # Supprimer le fichier temporaire\n",
        "    return high_utility_patterns\n"
      ],
      "metadata": {
        "colab": {
          "base_uri": "https://localhost:8080/"
        },
        "id": "68vEx9rlarUj",
        "outputId": "f095605a-fc63-4fe3-a5c4-d3d012b4c692"
      },
      "execution_count": 9,
      "outputs": [
        {
          "output_type": "stream",
          "name": "stderr",
          "text": [
            "/usr/local/lib/python3.10/dist-packages/ipykernel/ipkernel.py:283: DeprecationWarning: `should_run_async` will not call `transform_cell` automatically in the future. Please pass the result to `transformed_cell` argument and any exception that happen during thetransform in `preprocessing_exc_tuple` in IPython 7.17 and above.\n",
            "  and should_run_async(code)\n"
          ]
        }
      ]
    },
    {
      "cell_type": "markdown",
      "source": [],
      "metadata": {
        "id": "7DDfN72Lnev4"
      }
    },
    {
      "cell_type": "markdown",
      "source": [
        "#1. **Chargement et Prétraitement des Données**"
      ],
      "metadata": {
        "id": "kQt4IRvTnkPD"
      }
    },
    {
      "cell_type": "code",
      "source": [
        "# Chargement et prétraitement\n",
        "df_raw = pd.read_csv('../data/df.csv')\n",
        "df_cleaned = preprocess_data(df_raw)\n"
      ],
      "metadata": {
        "colab": {
          "base_uri": "https://localhost:8080/"
        },
        "id": "DR6GyG_8necC",
        "outputId": "3dc0a0be-03c5-4a61-9111-e23f1e6da44d"
      },
      "execution_count": 10,
      "outputs": [
        {
          "output_type": "stream",
          "name": "stderr",
          "text": [
            "/usr/local/lib/python3.10/dist-packages/ipykernel/ipkernel.py:283: DeprecationWarning: `should_run_async` will not call `transform_cell` automatically in the future. Please pass the result to `transformed_cell` argument and any exception that happen during thetransform in `preprocessing_exc_tuple` in IPython 7.17 and above.\n",
            "  and should_run_async(code)\n"
          ]
        }
      ]
    },
    {
      "cell_type": "markdown",
      "source": [
        "# 2. Génération des Transactions"
      ],
      "metadata": {
        "id": "4NDIPm-hnuiu"
      }
    },
    {
      "cell_type": "code",
      "source": [
        "# Génération des transactions\n",
        "transactions = generate_transactions(df_cleaned)"
      ],
      "metadata": {
        "colab": {
          "base_uri": "https://localhost:8080/"
        },
        "id": "zDAX09VZn2z3",
        "outputId": "42988d68-54d1-4480-ae20-106f985f79cb"
      },
      "execution_count": 11,
      "outputs": [
        {
          "output_type": "stream",
          "name": "stderr",
          "text": [
            "/usr/local/lib/python3.10/dist-packages/ipykernel/ipkernel.py:283: DeprecationWarning: `should_run_async` will not call `transform_cell` automatically in the future. Please pass the result to `transformed_cell` argument and any exception that happen during thetransform in `preprocessing_exc_tuple` in IPython 7.17 and above.\n",
            "  and should_run_async(code)\n"
          ]
        },
        {
          "output_type": "stream",
          "name": "stdout",
          "text": [
            "Nombre total de transactions : 312284\n",
            "Nombre total d'items uniques : 50075\n"
          ]
        }
      ]
    },
    {
      "cell_type": "markdown",
      "source": [
        "#3. Découverte de Motifs Fréquents"
      ],
      "metadata": {
        "id": "ZTx-zMhrn9uN"
      }
    },
    {
      "cell_type": "code",
      "source": [
        "# Extraction de motifs fréquents avec contrainte de taille\n",
        "frequent_patterns_with_size_constraint = extract_frequent_patterns(transactions, min_support=0.002, max_len=3)\n",
        "frequent_patterns_with_size_constraint = extract_frequent_patterns(transactions, min_support=0.002, max_len=2)\n",
        "# Extraction sans contrainte de taille\n",
        "frequent_patterns_without_size_constraint = extract_frequent_patterns(transactions, min_support=0.002, max_len=None)\n",
        "\n",
        "# Comparaison qualitative\n",
        "print(f\"Nombre de motifs (avec contrainte) : {len(frequent_patterns_with_size_constraint)}\")\n",
        "print(f\"Nombre de motifs (sans contrainte) : {len(frequent_patterns_without_size_constraint)}\")\n"
      ],
      "metadata": {
        "colab": {
          "base_uri": "https://localhost:8080/"
        },
        "id": "smfTCmkJoCdL",
        "outputId": "2a7b11d6-2d87-4c99-f08e-cf9bdab8e9e7"
      },
      "execution_count": 12,
      "outputs": [
        {
          "output_type": "stream",
          "name": "stdout",
          "text": [
            "3\n"
          ]
        },
        {
          "output_type": "stream",
          "name": "stderr",
          "text": [
            "/usr/local/lib/python3.10/dist-packages/ipykernel/ipkernel.py:283: DeprecationWarning: `should_run_async` will not call `transform_cell` automatically in the future. Please pass the result to `transformed_cell` argument and any exception that happen during thetransform in `preprocessing_exc_tuple` in IPython 7.17 and above.\n",
            "  and should_run_async(code)\n"
          ]
        },
        {
          "output_type": "stream",
          "name": "stdout",
          "text": [
            "let's go\n",
            "Nombre total de motifs fréquents trouvés : 123\n",
            "Longueur maximale des motifs générés : 3\n",
            "length\n",
            "1    87\n",
            "2    21\n",
            "3    15\n",
            "Name: count, dtype: int64\n",
            "      support                              itemsets  length\n",
            "0    0.003116                          (7245456313)       1\n",
            "1    0.002161                          (B00008BFYG)       1\n",
            "2    0.002097                          (B00083HJ44)       1\n",
            "3    0.003593                          (B0009R96YK)       1\n",
            "4    0.002767                          (B000FF05L4)       1\n",
            "..        ...                                   ...     ...\n",
            "118  0.002248  (B016UQXB26, B00N3XXXCS, B016UQXB5I)       3\n",
            "119  0.002248  (B00VHX8G5A, B016UQXB26, B00PD8JOTW)       3\n",
            "120  0.002251  (B00VHX8G5A, B00PD8JOTW, B016UQXB5I)       3\n",
            "121  0.002248  (B016UQXB26, B00PD8JOTW, B016UQXB5I)       3\n",
            "122  0.002251  (B00VHX8G5A, B016UQXB26, B016UQXB5I)       3\n",
            "\n",
            "[123 rows x 3 columns]\n",
            "2\n",
            "let's go\n",
            "Nombre total de motifs fréquents trouvés : 108\n",
            "Longueur maximale des motifs générés : 2\n",
            "length\n",
            "1    87\n",
            "2    21\n",
            "Name: count, dtype: int64\n",
            "      support                  itemsets  length\n",
            "0    0.003116              (7245456313)       1\n",
            "1    0.002161              (B00008BFYG)       1\n",
            "2    0.002097              (B00083HJ44)       1\n",
            "3    0.003593              (B0009R96YK)       1\n",
            "4    0.002767              (B000FF05L4)       1\n",
            "..        ...                       ...     ...\n",
            "103  0.002248  (B016UQXB26, B00PD8JOTW)       2\n",
            "104  0.002254  (B00PD8JOTW, B016UQXB5I)       2\n",
            "105  0.002251  (B00VHX8G5A, B016UQXB26)       2\n",
            "106  0.002254  (B00VHX8G5A, B016UQXB5I)       2\n",
            "107  0.002251  (B016UQXB26, B016UQXB5I)       2\n",
            "\n",
            "[108 rows x 3 columns]\n",
            "None\n",
            "let's go\n",
            "Nombre total de motifs fréquents trouvés : 130\n",
            "Longueur maximale des motifs générés : 5\n",
            "length\n",
            "1    87\n",
            "2    21\n",
            "3    15\n",
            "4     6\n",
            "5     1\n",
            "Name: count, dtype: int64\n",
            "      support                                           itemsets  length\n",
            "0    0.003116                                       (7245456313)       1\n",
            "1    0.002161                                       (B00008BFYG)       1\n",
            "2    0.002097                                       (B00083HJ44)       1\n",
            "3    0.003593                                       (B0009R96YK)       1\n",
            "4    0.002767                                       (B000FF05L4)       1\n",
            "..        ...                                                ...     ...\n",
            "125  0.002251   (B00VHX8G5A, B00N3XXXCS, B00PD8JOTW, B016UQXB5I)       4\n",
            "126  0.002248   (B016UQXB26, B00N3XXXCS, B00PD8JOTW, B016UQXB5I)       4\n",
            "127  0.002248   (B00VHX8G5A, B016UQXB26, B00N3XXXCS, B016UQXB5I)       4\n",
            "128  0.002248   (B00VHX8G5A, B016UQXB26, B00PD8JOTW, B016UQXB5I)       4\n",
            "129  0.002248  (B00VHX8G5A, B016UQXB26, B016UQXB5I, B00N3XXXC...       5\n",
            "\n",
            "[130 rows x 3 columns]\n",
            "Nombre de motifs (avec contrainte) : 108\n",
            "Nombre de motifs (sans contrainte) : 130\n"
          ]
        }
      ]
    },
    {
      "cell_type": "markdown",
      "source": [
        "#4. Calcul des Utilités des Items"
      ],
      "metadata": {
        "id": "if6TkRp1oL_p"
      }
    },
    {
      "cell_type": "code",
      "source": [
        "# Calcul des utilités\n",
        "utilities = compute_weighted_utilities(df_cleaned)\n",
        "utilities.head(20)\n"
      ],
      "metadata": {
        "colab": {
          "base_uri": "https://localhost:8080/",
          "height": 797
        },
        "id": "X-7vJrwdoLGr",
        "outputId": "db0d6b3b-5e1f-4ee6-f11b-535bbbeca59b"
      },
      "execution_count": 13,
      "outputs": [
        {
          "output_type": "stream",
          "name": "stderr",
          "text": [
            "/usr/local/lib/python3.10/dist-packages/ipykernel/ipkernel.py:283: DeprecationWarning: `should_run_async` will not call `transform_cell` automatically in the future. Please pass the result to `transformed_cell` argument and any exception that happen during thetransform in `preprocessing_exc_tuple` in IPython 7.17 and above.\n",
            "  and should_run_async(code)\n"
          ]
        },
        {
          "output_type": "execute_result",
          "data": {
            "text/plain": [
              "item\n",
              "0971100764    12.753908\n",
              "1620878747    10.556229\n",
              "7245456275    21.635049\n",
              "7245456313    31.952946\n",
              "B000002NUS    17.744159\n",
              "B00002N6SB     9.729551\n",
              "B00002N6T4    15.107381\n",
              "B00002N9FI    15.613917\n",
              "B00003G4JR    16.637928\n",
              "B00004NKIQ    17.097630\n",
              "B00004R9MM    10.962238\n",
              "B00004SYN6    13.397112\n",
              "B00004T1JW    19.788062\n",
              "B00004TBLW    26.324498\n",
              "B00004U31L     5.633033\n",
              "B00004YO4Q    12.411596\n",
              "B00004YT59    13.493265\n",
              "B00004YTMV    15.515752\n",
              "B00004YTPE    17.539728\n",
              "B000051WSI     5.493061\n",
              "Name: rating, dtype: float64"
            ],
            "text/html": [
              "<div>\n",
              "<style scoped>\n",
              "    .dataframe tbody tr th:only-of-type {\n",
              "        vertical-align: middle;\n",
              "    }\n",
              "\n",
              "    .dataframe tbody tr th {\n",
              "        vertical-align: top;\n",
              "    }\n",
              "\n",
              "    .dataframe thead th {\n",
              "        text-align: right;\n",
              "    }\n",
              "</style>\n",
              "<table border=\"1\" class=\"dataframe\">\n",
              "  <thead>\n",
              "    <tr style=\"text-align: right;\">\n",
              "      <th></th>\n",
              "      <th>rating</th>\n",
              "    </tr>\n",
              "    <tr>\n",
              "      <th>item</th>\n",
              "      <th></th>\n",
              "    </tr>\n",
              "  </thead>\n",
              "  <tbody>\n",
              "    <tr>\n",
              "      <th>0971100764</th>\n",
              "      <td>12.753908</td>\n",
              "    </tr>\n",
              "    <tr>\n",
              "      <th>1620878747</th>\n",
              "      <td>10.556229</td>\n",
              "    </tr>\n",
              "    <tr>\n",
              "      <th>7245456275</th>\n",
              "      <td>21.635049</td>\n",
              "    </tr>\n",
              "    <tr>\n",
              "      <th>7245456313</th>\n",
              "      <td>31.952946</td>\n",
              "    </tr>\n",
              "    <tr>\n",
              "      <th>B000002NUS</th>\n",
              "      <td>17.744159</td>\n",
              "    </tr>\n",
              "    <tr>\n",
              "      <th>B00002N6SB</th>\n",
              "      <td>9.729551</td>\n",
              "    </tr>\n",
              "    <tr>\n",
              "      <th>B00002N6T4</th>\n",
              "      <td>15.107381</td>\n",
              "    </tr>\n",
              "    <tr>\n",
              "      <th>B00002N9FI</th>\n",
              "      <td>15.613917</td>\n",
              "    </tr>\n",
              "    <tr>\n",
              "      <th>B00003G4JR</th>\n",
              "      <td>16.637928</td>\n",
              "    </tr>\n",
              "    <tr>\n",
              "      <th>B00004NKIQ</th>\n",
              "      <td>17.097630</td>\n",
              "    </tr>\n",
              "    <tr>\n",
              "      <th>B00004R9MM</th>\n",
              "      <td>10.962238</td>\n",
              "    </tr>\n",
              "    <tr>\n",
              "      <th>B00004SYN6</th>\n",
              "      <td>13.397112</td>\n",
              "    </tr>\n",
              "    <tr>\n",
              "      <th>B00004T1JW</th>\n",
              "      <td>19.788062</td>\n",
              "    </tr>\n",
              "    <tr>\n",
              "      <th>B00004TBLW</th>\n",
              "      <td>26.324498</td>\n",
              "    </tr>\n",
              "    <tr>\n",
              "      <th>B00004U31L</th>\n",
              "      <td>5.633033</td>\n",
              "    </tr>\n",
              "    <tr>\n",
              "      <th>B00004YO4Q</th>\n",
              "      <td>12.411596</td>\n",
              "    </tr>\n",
              "    <tr>\n",
              "      <th>B00004YT59</th>\n",
              "      <td>13.493265</td>\n",
              "    </tr>\n",
              "    <tr>\n",
              "      <th>B00004YTMV</th>\n",
              "      <td>15.515752</td>\n",
              "    </tr>\n",
              "    <tr>\n",
              "      <th>B00004YTPE</th>\n",
              "      <td>17.539728</td>\n",
              "    </tr>\n",
              "    <tr>\n",
              "      <th>B000051WSI</th>\n",
              "      <td>5.493061</td>\n",
              "    </tr>\n",
              "  </tbody>\n",
              "</table>\n",
              "</div><br><label><b>dtype:</b> float64</label>"
            ]
          },
          "metadata": {},
          "execution_count": 13
        }
      ]
    },
    {
      "cell_type": "markdown",
      "source": [
        "# 5. Extraction de Motifs à Forte Utilité avec QPlus"
      ],
      "metadata": {
        "id": "zD_ov5mMoUzn"
      }
    },
    {
      "cell_type": "code",
      "source": [
        "# QPlus avec utilité moyenne et contrainte de taille\n",
        "high_utility_patterns = qplus(\n",
        "    transactions,\n",
        "    utilities.to_dict(),\n",
        "    min_utility=10,\n",
        "    use_avg_utility=True,\n",
        "    max_len=5\n",
        ")\n",
        "print(f\"Top 10 motifs à forte utilité (avec contrainte de taille) : {high_utility_patterns[:10]}\")\n",
        "# QPlus sans contrainte de taille\n",
        "high_utility_patterns_no_constraints = qplus(\n",
        "    transactions,\n",
        "    utilities.to_dict(),\n",
        "    min_utility=10,\n",
        "    use_avg_utility=True,\n",
        "    max_len=None\n",
        ")\n",
        "print(f\"Top 10 motifs à forte utilité (sans contrainte de taille) : {high_utility_patterns_no_constraints[:10]}\")\n",
        "# Traitement on-disk\n",
        "high_utility_patterns_disk = process_on_disk(transactions, utilities.to_dict(), min_utility=10)\n",
        "print(f\"Top 10 motifs à forte utilité (qplus on disk) : {high_utility_patterns_disk[:10]}\")\n"
      ],
      "metadata": {
        "colab": {
          "base_uri": "https://localhost:8080/"
        },
        "id": "yTzmSVF2oUke",
        "outputId": "7903ebad-9c09-40cd-aeda-2625a3602fb5"
      },
      "execution_count": 14,
      "outputs": [
        {
          "output_type": "stream",
          "name": "stderr",
          "text": [
            "/usr/local/lib/python3.10/dist-packages/ipykernel/ipkernel.py:283: DeprecationWarning: `should_run_async` will not call `transform_cell` automatically in the future. Please pass the result to `transformed_cell` argument and any exception that happen during thetransform in `preprocessing_exc_tuple` in IPython 7.17 and above.\n",
            "  and should_run_async(code)\n"
          ]
        },
        {
          "output_type": "stream",
          "name": "stdout",
          "text": [
            "Top 10 motifs à forte utilité (avec contrainte de taille) : [('B004X55L9I', 38026.840162442306), ('B00FA2RLX2', 36654.27208566347), ('B00BMSGU9Y', 33322.72533891208), ('B0012Q2S4W', 33286.32771516073), ('B000YBAKU0', 31260.51433045705), ('B0063R2C1E', 31212.059180020457), ('B00A6TBITM', 31125.244453604093), ('B00TQ4QKIM', 27044.382546581444), ('B00CLVQNT8', 26996.31378529519), ('B001GFFRP6', 26886.052754458)]\n",
            "Top 10 motifs à forte utilité (sans contrainte de taille) : [('B00FA2RLX2', 80405.27948531859), ('B004X55L9I', 51600.45340843664), ('B0014VX2M2', 51138.02569652408), ('B00BMSGU9Y', 48674.32823727732), ('B0012Q2S4W', 48557.80224381921), ('B00B4FY8YO', 47689.5768300843), ('B00A6TBITM', 47060.17821693301), ('B004ZAIXSC', 46594.03986349434), ('B00TQ4QKIM', 46073.34854655148), ('B00CLVQNT8', 45942.70633982777)]\n",
            "Top 10 motifs à forte utilité (qplus on disk) : [('B004ZAIXSC', 34.642408820441354), ('B0014VX2M2', 34.02396919263034), ('B00LR454YU', 30.994495573884596), ('B00E2217I6', 30.699389920373182), ('B000JZ7JM8', 30.640102375352928), ('B002BDOHNA', 29.79666797406063), ('B000H6GZI8', 28.813865235321206), ('B00GMZHUXW', 28.255129437001745), ('B0044XE6J0', 28.191833888500792), ('B004E4AVY8', 27.43042315055536)]\n"
          ]
        }
      ]
    },
    {
      "cell_type": "markdown",
      "source": [
        "# 6. Système d'Extraction à la Demande"
      ],
      "metadata": {
        "id": "RcHrWQhTpV0g"
      }
    },
    {
      "cell_type": "code",
      "source": [
        "# Extraction à la demande\n",
        "results = extract_motifs_on_demand(min_utility=3000, high_utility_patterns=high_utility_patterns)\n",
        "print(f\"Motifs extraits a la demande: {results}\")\n"
      ],
      "metadata": {
        "colab": {
          "base_uri": "https://localhost:8080/"
        },
        "id": "tsSFcxkypZQb",
        "outputId": "4f10c4af-7522-458c-90ee-97731ae8e969"
      },
      "execution_count": 15,
      "outputs": [
        {
          "output_type": "stream",
          "name": "stdout",
          "text": [
            "Motifs extraits a la demande: [('B004X55L9I', 38026.840162442306), ('B00FA2RLX2', 36654.27208566347), ('B00BMSGU9Y', 33322.72533891208), ('B0012Q2S4W', 33286.32771516073), ('B000YBAKU0', 31260.51433045705), ('B0063R2C1E', 31212.059180020457), ('B00A6TBITM', 31125.244453604093), ('B00TQ4QKIM', 27044.382546581444), ('B00CLVQNT8', 26996.31378529519), ('B001GFFRP6', 26886.052754458), ('B0049UXD7O', 26880.786783397023), ('B00NPLSZF8', 26540.357900098752), ('B00QR2HBRA', 25740.570818592114), ('B00KXCFRSK', 25659.744859720773), ('B00B4FY8YO', 25030.440877668654), ('B0014VX2M2', 24599.329726271484), ('7245456313', 21120.89717818622), ('B0015KG5NK', 20877.229871268242), ('B000GCRWCG', 20527.506157348387), ('B0015VHIF8', 19892.10271188127), ('B0009R96YK', 19414.96557808412), ('B00X77YTS2', 19301.68921944803), ('B004ZAIXSC', 18914.75521596107), ('B001YK4M18', 18587.622918063178), ('B00125XCNY', 18563.224050045585), ('B015IEJ0GC', 17699.24596786066), ('B001ID4ZY0', 17588.614578912773), ('B016UQXB5I', 17136.599370153235), ('B00N3XXXCS', 17100.687083270477), ('B00PD8JOTW', 17100.687083270477), ('B00VHX8G5A', 17100.687083270477), ('B016UQXB26', 17094.257995969405), ('B002TALNRS', 17073.317511852787), ('B00FO9ZRYQ', 16253.465467032274), ('B00KQSVRF8', 16034.432836379461), ('B00B1N0R6C', 15992.980537044192), ('B018L2WM86', 15837.480253798578), ('B007RFG0NM', 15748.725213269516), ('B000H87PUI', 15636.410580331105), ('B006ZT8YFI', 15227.38247804113), ('B00008BFYG', 15063.498014317707), ('B00G7H793G', 14972.256845987733), ('B00F3S5QJE', 14935.664552697543), ('B00200E0HM', 14859.127101294398), ('B00HA2ZKCO', 14645.637913598623), ('B006ZT936W', 13965.330842823898), ('B00XM8HTIS', 13961.365367851886), ('B008YPZQCU', 13657.47141569352), ('B0013R67A6', 13484.973006144954), ('B000FF05L4', 13479.920170957213), ('B00083HJ44', 13270.387898112875), ('B00288L2N6', 13188.874913947275), ('B01E4YVCOA', 13125.138159402772), ('B00LR454YU', 12645.754194144956), ('B000BNYYAS', 12460.338398938318), ('B000UVVX28', 12422.166058617517), ('B0085MX3SG', 12381.635331994226), ('B001E7S5BO', 12278.551312854768), ('B009XDR0NK', 12004.26295089337), ('B00DMIEZEO', 11843.91490656711), ('B00B4IHXRU', 11524.55057393122), ('B006X9DLQM', 11510.634749857321), ('B000JZ7JM8', 11398.118083631372), ('B00UFOYFR0', 11237.403762793378), ('B006HFA1YC', 11230.335659806371), ('B001949TKS', 11229.64721445882), ('B01DL9JEHG', 11174.008319262468), ('B00435IPFK', 11123.129278045177), ('B000276CZS', 11017.037846590718), ('B00Q8HN0NI', 10885.34861573413), ('B01BY6UFWQ', 10836.174921772335), ('B0048KGFHU', 10719.67187482733), ('B00177BQJE', 10649.536056500705), ('B00GJZ015Y', 10638.792789037157), ('B00065X222', 10594.38726957015), ('B004RR0N8Q', 10547.190784312235), ('B003J44Y74', 10520.554128172249), ('B000YZ4CPU', 10468.280990584943), ('B000UVTDLG', 10359.052607236878), ('B001F0GBEI', 10349.950735697787), ('B01CJG4JWW', 10330.447731187845), ('B00167TGII', 10119.508987707972), ('B0014JKQRI', 10096.559115762155), ('B002E6RERU', 10059.148066087697), ('B01AAGVWJG', 9916.236434369492), ('B005UGIMNQ', 9883.925052482102), ('B00BU43IBI', 9826.552465922214), ('B0012RJTUW', 9805.078195973028), ('B00EPGLPC2', 9590.601587477004), ('B00N39H3KA', 9571.029813337816), ('B01FGD58V6', 9362.562409824164), ('B0007IS74G', 9340.922314181666), ('B001DDPFYY', 9328.165792175416), ('B000W7BHJY', 9315.391599272758), ('B003CH5382', 9190.436723897299), ('B006HFBQ0K', 9176.49228544618), ('B003ISKM9K', 9157.766301468422), ('B007YT854S', 9070.471081915955), ('B00E2217I6', 8964.221856749014), ('B00070QEDU', 8938.18041015487), ('B0013TR66I', 8916.42618334373), ('B000S5ODNC', 8809.573122920016), ('B00142FFDA', 8800.739881937461), ('B00JMAB6MK', 8732.584422412909), ('B001WJ67S2', 8692.42356999598), ('B0151RQAX2', 8543.933330297368), ('B000TFSDDW', 8541.031829527783), ('B00B5F02ZW', 8538.267925655055), ('B000H6GZI8', 8500.090244419724), ('B0032FU4QK', 8472.007221222937), ('B00LGXE5NS', 8444.324706629925), ('B010B7Q40G', 8440.910721940478), ('B002B7LTBY', 8403.911552596464), ('B0009PUQ8M', 8368.927995889464), ('B0015RDJZU', 8340.35106139386), ('B001WJ577O', 8262.487788137323), ('B000F34ZKS', 8258.450750128875), ('B001H53Q6M', 8254.371726711393), ('B002BJBIRW', 8248.06120508564), ('B00D9B7OKQ', 8189.493528405307), ('B001MK3GFS', 8189.103446130581), ('B001B7ZB4Q', 8164.194367174846), ('B005DVA57Y', 8158.8007961045105), ('B000C17HKS', 8141.311333641097), ('B0009SXX98', 8052.95409780524), ('B00364E0C6', 8008.010844708793), ('B00UAM0MFG', 7954.64505590421), ('B00NAG4WX2', 7918.048512232827), ('B00O0F3BMU', 7847.925631625555), ('B0012MEZKG', 7795.127848283863), ('B0013RKHJI', 7776.570183038353), ('B004NKSPR8', 7768.149294963109), ('B002NXRW62', 7712.766584694203), ('B001BR4RO6', 7707.732285474716), ('B001B8ONZI', 7705.32874360541), ('B000IZGFCE', 7689.754772072647), ('B001NCDE1Q', 7650.22750160224), ('B001AZNATC', 7630.94833579544), ('B000Y14JUC', 7617.147877706702), ('B000BVXDZM', 7598.121314215837), ('B002CLQ1Q2', 7596.2310250149485), ('B004SKCUME', 7534.07179362183), ('B005188T90', 7533.563537028929), ('B00339C3P0', 7529.7719478995095), ('B0038ZYRGC', 7483.572853742986), ('B000K2ILJ0', 7448.853937990194), ('B001MYGLJC', 7398.170549261261), ('B00457SRBI', 7366.596367444106), ('B000FIE4AE', 7364.510624781388), ('B000B8IEA4', 7340.886650430015), ('B00005OU9D', 7336.485262561333), ('B001N1DPDE', 7260.984836434225), ('B001TR7QZA', 7252.9145418484295), ('B0094GLESS', 7252.613172907976), ('B00168PI4S', 7247.224589350332), ('B0002T72MI', 7236.455660523534), ('B001ZFIA6U', 7210.949638919848), ('B00W7Y27CQ', 7209.93810659377), ('B004E4AVY8', 7186.770865445536), ('B000HZGTUS', 7166.402105063142), ('B007YV1GM4', 7160.8625383229455), ('B00074H72I', 7156.064492438751), ('B002BDOHNA', 7151.2003137745205), ('B001EI7578', 7134.353147374344), ('B000RYAKHC', 7096.097414197959), ('B017ADD9N4', 7086.790221507869), ('B00GJJM8XI', 7053.240636928974), ('B0009V1BDA', 7031.359572227848), ('B008E1VH1I', 7020.772030540077), ('B00F2DG3VU', 6997.942568180604), ('B000NK3WSE', 6988.6403465902085), ('B005YPK8G2', 6986.197318410052), ('B004TZ86M6', 6954.390824162858), ('B0043T37UY', 6951.410960439456), ('B0013SZC8S', 6923.715617941042), ('B0012KT5GM', 6914.741356705269), ('B006NZZH18', 6798.991741879083), ('B0048KFEQI', 6752.729193693025), ('B0010AP7HU', 6739.385763586843), ('B01AVDVHTI', 6683.681589454635), ('B01DEGYTC6', 6627.57900042921), ('B01H71AZ36', 6623.469121098965), ('B015DJDZA4', 6619.294820472994), ('B00VX9WMVC', 6591.474094978097), ('B002AA8G68', 6586.34188595484), ('B00CBMA2AS', 6579.831943138686), ('B00O9RTF7Y', 6576.416221138709), ('B00H90PFOK', 6552.536633812116), ('B00JO2BWFC', 6516.007378907612), ('B00VV5KRD8', 6506.10018789861), ('B000C17L2W', 6485.52969179043), ('B00WIXL4UM', 6470.532438222114), ('B00NTYHBUG', 6463.808181974354), ('B004I576SM', 6461.170350406842), ('B006IL02OY', 6437.5207052142005), ('B000VICRO8', 6434.031291250028), ('B001WJ6908', 6433.8853663854115), ('B005281N1K', 6432.070465596945), ('B016HM7QRE', 6425.611876733114), ('B000LJUS4I', 6422.1879881383), ('B000KOSB34', 6401.091887065863), ('B001AT3SCC', 6399.290619039906), ('B0103AJ0IO', 6379.756419436115), ('B000FI6XGC', 6373.929124895013), ('B007URT7T6', 6372.034393126547), ('B00KX0B5TW', 6361.45327316058), ('B000FXVAYW', 6325.65974724763), ('B000067QMK', 6319.0337899023225), ('B000F36TM0', 6221.254232743728), ('B0016BUR7I', 6186.723931793266), ('B00004TBLW', 6186.2569991688815), ('B000EZ03PS', 6105.424354810614), ('B000FIE3WI', 6100.372720276798), ('B00V9ITMYC', 6091.182556055518), ('B00CDI7UEQ', 6084.059368318563), ('B0014VTRF8', 6046.646884411042), ('B000A073BE', 6031.634123691527), ('B00E3NYQSM', 6029.57001300671), ('B006OU4ERA', 5985.637836288348), ('B00ENDROMW', 5966.9245285518855), ('B00DHIZ7X2', 5964.648247643883), ('B006GQK68S', 5953.017042206058), ('B00INQVYZ8', 5911.712634920623), ('B001A4N47G', 5907.550664053175), ('B0037LVA1W', 5872.532232827376), ('B000JIME2A', 5868.200789483191), ('B015HHY17I', 5862.821475010257), ('B004TBMUMM', 5835.0255346846025), ('B000VDTECQ', 5821.25121389827), ('B017VJD4A0', 5779.630927510603), ('B00LMS0X60', 5773.376860551724), ('B001BVI982', 5746.767354112932), ('B00IQM3VYQ', 5709.037023000766), ('B017KU1DIK', 5671.908090134518), ('B00G44X9D6', 5670.622912508092), ('B001EUL2DO', 5656.208031640065), ('B00RYNHVBM', 5647.697233751164), ('B000P3WQ86', 5641.390179681448), ('B000PUDS86', 5610.6207399794985), ('B001C1UGVO', 5597.429831456484), ('B000F38YI2', 5542.4682040719035), ('B000F38YHI', 5542.4682040719035), ('B005VRLT6Q', 5517.027872875214), ('B004YF931Y', 5507.478907733276), ('B003ZTV6SI', 5497.927833331291), ('B002UK9WK2', 5493.788851119453), ('B000JVKLTU', 5490.337155303865), ('B000PW8KSM', 5461.334371355393), ('B00162KUII', 5443.79222561237), ('B002MGBEZ0', 5432.479808090792), ('B0009PUTIE', 5408.305587967235), ('B002CVU2HG', 5401.241540672323), ('B00OOJ2D1M', 5375.011501579958), ('B00SU9ACGA', 5365.762693724856), ('B00DYFS3IY', 5359.413718160249), ('B001796T2Q', 5358.358216171796), ('B0057R8SSM', 5340.328583445127), ('B0002X3APM', 5324.510476450347), ('B0051F8PSI', 5306.189054670383), ('B00YRIHYIW', 5293.480430326017), ('B001WIYQNG', 5282.566287292717), ('B0024XEXQS', 5273.504265181189), ('B010JFWDHS', 5255.569197458394), ('B000FEUUEW', 5253.8155503884345), ('B000MN6FZO', 5239.209451845971), ('B000MNBLXU', 5239.209451845971), ('B00ME813MA', 5229.388505354989), ('B00440VIYY', 5209.890943703097), ('B0083F0JKA', 5178.6636882123175), ('B0016BNDXI', 5171.216984979457), ('B00CMHCIO0', 5147.413716364458), ('B005OU4E1M', 5145.098001317847), ('B00NH9WEUA', 5134.972460707814), ('B000YBEID0', 5134.115136751265), ('B011LC85PM', 5112.600198867473), ('B003ITG62Q', 5101.346172924825), ('B001IKHUNQ', 5071.491106114201), ('B00LU8CN1K', 5071.258593020983), ('B016WX5M92', 5043.179018238612), ('B000JC2ZHA', 5038.861923196065), ('B0007IS732', 5028.962056458996), ('B004QJSULW', 5020.815119148268), ('B01EIQH9JG', 5017.723416057956), ('B00WQJTV1W', 5008.813574670164), ('B008VILUSE', 5001.783675977689), ('B0026HYWRW', 5001.153216430058), ('B0009PUSO4', 4985.653380068472), ('B01FC5IN1K', 4969.819405209449), ('B000F6E2JE', 4965.938801424387), ('B0012TIUU0', 4953.9696837325655), ('B00EPGLIOM', 4949.093987831141), ('B000P40UJC', 4948.927090734946), ('B00R3MZITG', 4947.687183708644), ('B00EPGMHU6', 4915.727903328719), ('B0042TD3VI', 4915.231929173047), ('B004J2KDH0', 4905.873560808051), ('B001PR0MS2', 4897.92287464482), ('B0067BGZBE', 4886.945468087196), ('B003Z45XVE', 4871.38554404215), ('B005CF0MVK', 4861.89906951373), ('B000FDRQ1S', 4856.547580709613), ('B00QJCK5A8', 4854.149535013535), ('B000UMFT22', 4848.55818706156), ('B00NG1ECBS', 4846.157657970057), ('B000H8ZWYE', 4840.313659904969), ('B004D1UP7A', 4830.682479818897), ('B0030WK1BS', 4814.552478857637), ('B001GB4V16', 4812.39307040561), ('B000YYYP3K', 4808.233075205415), ('B001EJMS6K', 4800.0517167824455), ('B001PR0MP0', 4781.505288752732), ('B0019VWSQ8', 4780.973412589245), ('B000EHWWJQ', 4776.5945940036445), ('B00196P2O8', 4749.524856605789), ('B00GMZHUXW', 4746.861745416291), ('B00SSQGKVG', 4743.797003152048), ('B000PW64JY', 4737.84879342347), ('B00E221A88', 4727.355749547448), ('B000VCDXNS', 4720.544978237326), ('B007RB32M8', 4707.489854177331), ('B00XLGKTY2', 4707.094170906931), ('B007AQ3MMK', 4688.963465158621), ('B000KC3Y0G', 4670.232261442758), ('B000NOXEJM', 4642.45376409668), ('B0061Z84AG', 4621.419806287779), ('B01CTRKP2O', 4614.083621263807), ('B0017RAMCQ', 4600.138488133032), ('B001CR4AAG', 4591.685288014184), ('B00PMWL3YI', 4584.512379461712), ('B00005UDHY', 4560.961246974579), ('B000HBMFRS', 4553.154667275635), ('B0001WP22S', 4540.237441495161), ('B00EB5OU0Q', 4537.633831543517), ('B0042JFAUK', 4533.236925346789), ('B00FTHGZU8', 4532.584559304159), ('B00RQQRTSM', 4522.00669411901), ('B0009PUR5E', 4512.46159575394), ('B006ZC5KLG', 4499.231837657583), ('B00BD45N7W', 4487.0094312628125), ('B00WKDTB5U', 4475.920920247169), ('B000P6BGYI', 4474.383055062786), ('B000YRU4NM', 4458.249174078347), ('B003ITKHM6', 4449.922551297361), ('B001BR6KXW', 4448.40896351245), ('B004KRA4YG', 4444.586644709919), ('B0125U36Q2', 4435.87259122567), ('B01D39KGJ4', 4419.254419341009), ('B004LRBLSI', 4414.648423723046), ('B0015RJFCQ', 4411.433044275242), ('B001DSX2BW', 4411.433044275242), ('B009EVIXLY', 4400.886660438953), ('B001AT33CW', 4395.449302353011), ('B006JYHFJA', 4390.630294791313), ('B000C0SRI0', 4377.63449696619), ('B001C5ZQTM', 4372.491884062162), ('B000VZ1IJG', 4371.3654994707), ('B005OSMDT4', 4368.228901551504), ('B0011861UI', 4363.131458141996), ('B003DR0SEK', 4360.558562163414), ('B002CC6BPM', 4358.146198407042), ('B0009KF58I', 4357.776301650133), ('B005FIS14Y', 4352.639206379662), ('B001LZPNWS', 4351.215287436519), ('B000QSXMME', 4344.6975711408795), ('B00D9NW32I', 4342.415349031016), ('B0052GZDSG', 4335.783569275889), ('B00FIKIK7C', 4330.549123173685), ('B0002YRNWM', 4324.069562260667), ('B00FATWGSU', 4323.201635282378), ('B00074H5K2', 4320.47708704698), ('B001CZBDF8', 4318.165020137734), ('B015QHZBE6', 4316.539631702045), ('B001P4B6DU', 4316.338997374636), ('B00ZM3TMO0', 4293.400727718951), ('B013JSV8MI', 4280.439001672581), ('B00JQXSNTW', 4276.135646154607), ('B00F2U1H64', 4260.2577086790925), ('B005GYUSHK', 4258.654550396122), ('B001BR2Z8G', 4245.697412924246), ('B0072K858U', 4244.044776273557), ('B0140JKLAA', 4235.250684097391), ('B004J2KDHK', 4234.018930846738), ('B007XXPHKK', 4228.898046136147), ('B0039RFJI4', 4218.0557084975635), ('B009RA6C1K', 4213.713345379734), ('B001K3JUEI', 4204.79650068153), ('B002N18PHO', 4197.9046976827), ('B001BQZSZ4', 4197.3371252377565), ('B00DQ1RDWS', 4195.944416347888), ('B01AV77QS0', 4192.083284257101), ('B019BQNTL0', 4187.327868168328), ('B007MI13JK', 4180.634528086936), ('B0007TAJ0K', 4171.03922393784), ('B016CMFESW', 4161.156781317703), ('B00PUDI2Z2', 4160.535759582791), ('B00T6PTQ6Y', 4158.81359134528), ('B00BIZPXWQ', 4152.591018354539), ('B001BR4R6E', 4147.7743503388765), ('B00R3N0BDS', 4144.432497728926), ('B00MUYUN0Q', 4137.119906807952), ('B006YZP7SK', 4128.237581954586), ('B000ACAMJC', 4123.212245785481), ('B0062ORZSS', 4121.391117705303), ('B002ZU06IO', 4119.604886495713), ('B000FI6YOS', 4109.002058870598), ('B00C88JTYK', 4103.780632225712), ('B007JTLKCC', 4102.310227779781), ('B00IJFQLXI', 4096.216077402938), ('B00XNREZJE', 4092.9758727103426), ('B005D7JXB2', 4091.14759881642), ('B00168XMDM', 4088.7459013820394), ('B001AIBJSI', 4081.7519337488447), ('B00817B2JW', 4080.8778888739457), ('B0015I0GE6', 4077.142166132906), ('B001THTUAO', 4067.4721433746427), ('B00ZWNGZFO', 4052.4181658031976), ('B00J39OM2Q', 4031.9673537162307), ('B00ME8SZFS', 4031.420302394083), ('B000BSZDP8', 4026.056059272215), ('B0053C3WDC', 4010.0174005739073), ('B002DX1DWG', 4006.724018695769), ('B0043AK0O4', 4006.346228980521), ('B00J1BV01C', 4005.7759982454304), ('B000ACAM06', 3993.636328900982), ('B00ZP2APX0', 3992.175947000665), ('B000A1FCNY', 3978.3840877714883), ('B008EQ1L3W', 3971.572529132497), ('B0013RD6OQ', 3944.836887036128), ('B00EPGMN1E', 3932.7385241452275), ('B0193C4HN6', 3930.6874148937345), ('B000BTJUPQ', 3924.923215001315), ('B00XIO0O88', 3924.158617641629), ('B00JHOO1RI', 3913.174530300626), ('B001RJ4Q2G', 3908.9012121534765), ('B0009TUEJE', 3897.60821858564), ('B00ANRW7DI', 3897.4441317878327), ('B001Q3LTLO', 3888.578116668158), ('B005J5TY7G', 3886.758631870945), ('B003RXFHBO', 3882.8545985636265), ('B004Y8AYGE', 3881.1518230177257), ('B001CJ67E6', 3872.0616322876863), ('B00ORX56NW', 3870.924168652865), ('B0053Y1H9G', 3861.6724086292265), ('B00CL0T5YY', 3850.324625182899), ('B00CK3UCAI', 3848.066170494294), ('B01ACCBQG2', 3840.3355502653835), ('B00598KU7Q', 3828.268017872464), ('B00NG3CRS6', 3818.8484531820923), ('B003MU5MNU', 3813.9627432388347), ('B00XWVRTR6', 3811.247400112522), ('B002CLM300', 3805.8664835030036), ('B018J1IX3C', 3805.522622347152), ('B00H26CGTI', 3804.887957911178), ('B00TSLYU5I', 3801.704186397766), ('B00BVMFRE0', 3782.478858745329), ('B0015RFH7S', 3776.5277199253655), ('B003U7SC6O', 3771.199310485242), ('B00A6VX9M4', 3770.3073564405863), ('B0014VVNZU', 3769.7956257503965), ('B0153WB7CE', 3765.004112983827), ('B004JAGNPS', 3762.4998777692704), ('B003ZZI42I', 3756.36732763293), ('B00CTZXZEW', 3753.482116593565), ('B0001NDYOK', 3751.6701713975854), ('B0009PUQVY', 3748.993869620431), ('B004Y27DVY', 3746.4183801623994), ('B001QVYT72', 3746.1127409386095), ('B00PRVLMK4', 3735.8794880476357), ('B0016HSA4O', 3727.276188619875), ('B00LDYJ59Y', 3714.1357110782346), ('B0029F62LU', 3704.817958087869), ('B00363WZY2', 3698.7700906586883), ('B00LDSW5BA', 3698.517128492901), ('B000LCA6PG', 3692.267884567914), ('B0012SXXK8', 3686.601605691976), ('B00076ZE0I', 3676.6912012543717), ('B00B1VDNQA', 3675.633042444933), ('B000BH283O', 3669.241627984228), ('B006QQX3C4', 3667.8327293243615), ('B00844Q3XC', 3666.7459455797216), ('B005MHDPBW', 3666.65342047555), ('B0158FBROE', 3662.6875581513063), ('B004X1674A', 3650.5511865672647), ('B00K22P86W', 3648.4436935123126), ('B002SF2ZXU', 3642.7753195021337), ('B000P3WPHI', 3642.224139198006), ('B003BR96CC', 3641.270559648757), ('B00JK1XW3W', 3640.7394391536714), ('B017O9DLQY', 3639.286158301729), ('B001RMUOKG', 3638.313378312335), ('B00PTRLR6U', 3618.7136829318993), ('B0013L2DKU', 3604.4476719627746), ('B002RPMUHM', 3589.8532647124675), ('B0002YRNVS', 3586.542874204441), ('B005OHF65I', 3584.516465145231), ('B01H8CZ91M', 3583.9956294694402), ('B00EL3JBP2', 3568.6154306507883), ('B001B6CH0S', 3558.4927268379734), ('B00BMKD1DU', 3556.8854195381505), ('B00Q2NJ5SW', 3556.224345755233), ('B00F5TI7C4', 3553.701138038383), ('B0044XE6J0', 3552.171069951092), ('B002QZ1RS6', 3549.408848411546), ('B002IEIJJ0', 3536.980275955001), ('B001KGA1JS', 3528.684435462511), ('B0089JOTJ2', 3525.4120789424123), ('B00005RCQS', 3522.98545042364), ('B002ZVMJGK', 3511.0740473338674), ('B001BQZOAS', 3506.2906062433467), ('B00162QGLS', 3504.9011709176048), ('B01AISP1KW', 3500.156018437764), ('B00K7G4JI6', 3496.5101262309868), ('B00177BQF8', 3495.703391599304), ('B00W266R8O', 3489.5250402958054), ('B000RY61PC', 3472.7900563206294), ('B0012U27KS', 3461.153001116834), ('B01CTU4IPG', 3456.4364702138478), ('B00F3EZPM6', 3451.660288120131), ('B002TUSK0Q', 3442.3811894446703), ('B00162PQTG', 3429.4268614071093), ('B001AMGGBO', 3428.1867490001805), ('B00076ZDT0', 3420.298717475946), ('B00KMJ88EE', 3417.824769241264), ('B00C88FYW6', 3415.74275968796), ('B00BTHREMK', 3414.453019094701), ('B00OWSR43W', 3409.045840955575), ('B0013RD6OG', 3407.372190676701), ('B00N0NGU7G', 3406.6640749245344), ('B000BNGUPK', 3406.2358803573716), ('B007L6953Y', 3400.2381709527535), ('B003073ZSY', 3399.6097570002935), ('B004TNWD40', 3393.953485067352), ('B010IS0OUE', 3385.949206177308), ('B007EI7YG4', 3383.5263284526636), ('B00TB3VTS4', 3377.840208756707), ('B00HWF1JA6', 3375.250466060989), ('B001E7CUT2', 3371.0331574669676), ('B00NQQCDDM', 3364.087034168726), ('B0014BD3DK', 3363.1301928740927), ('B000YAXRJC', 3362.2305142192613), ('B007Q4NCZI', 3361.7238141359403), ('B000P1RO7Q', 3361.0871478292183), ('B004K56TS8', 3358.2107523741943), ('B00AW5YFOK', 3356.029247111282), ('B00AAORNHO', 3354.4465620784567), ('B001M5TW4C', 3346.0288127149765), ('B000ASB66O', 3337.637081343602), ('B004E4AW1K', 3336.8253573867264), ('B000DZXN2Y', 3333.1645143248484), ('B00NPZ7WNU', 3332.672612764182), ('B001MQ9U7A', 3331.680519615132), ('B007UT3OFC', 3328.865485573629), ('B0051LQ0X4', 3326.23295564046), ('B00OCX1D8Y', 3316.316933365508), ('B001ANVCG2', 3311.3350011376488), ('B002CQUA3W', 3311.3055717609727), ('B00FC7XQ84', 3311.1109599082088), ('B005NBYZB6', 3310.1297056046405), ('B00MXJFXOE', 3308.802841283725), ('B005I6TQV0', 3306.585400586723), ('B0073WJACW', 3305.1024994388745), ('B014JJGCDQ', 3304.6147909696224), ('B00GV0TGQW', 3303.3625848198494), ('B000DZF6WO', 3295.857749298009), ('B005281J4Q', 3291.5661965116865), ('B00153KFDI', 3291.3370920396223), ('B0060E6CVG', 3289.4840680985844), ('B002B3WOW6', 3273.8610758635136), ('B001BR4TC6', 3271.8206160531167), ('B00Y3SZEJC', 3271.149709554156), ('B001D16OCI', 3269.0879320065696), ('B004J2GUOU', 3255.639895478165), ('B000I3KSLU', 3254.2771720365376), ('B000X61N2A', 3253.518513049161), ('B018RSYCSM', 3246.793374723084), ('B00G7H783W', 3243.5742387691002), ('B003CHANKU', 3240.520485349712), ('B000ZH6RQ4', 3239.5561833092515), ('B008GQ0KC8', 3233.5556467400693), ('B00G3ZURYU', 3225.3488232252557), ('B001M9J036', 3219.3822546310657), ('B0016BQFSS', 3217.274354929058), ('B001RLQNSO', 3214.2713385778193), ('B00178AI8S', 3212.3470121124096), ('B0052580XM', 3211.232212710912), ('B012HUHKK8', 3205.905740494926), ('B00IDZ71NS', 3204.116175083098), ('B0159JSKYE', 3199.584683298858), ('B003C8SUV8', 3199.416022510069), ('B00MWHUOSM', 3190.1443448534537), ('B001287JIA', 3186.220921383119), ('B001V5ZQSY', 3171.9025045140907), ('B00BGUNIFW', 3171.0520451448338), ('B001BZPJRC', 3168.506018898601), ('B001UERXOQ', 3162.310282484978), ('B005UGIPUQ', 3161.533788959692), ('B005CR0W0E', 3156.156674771014), ('B00APP5AUU', 3156.0835859810018), ('B00EXJ4RWG', 3155.879030045836), ('B0000AJ057', 3146.7199413758167), ('B01AVHQB22', 3145.482098039378), ('B000C14HL0', 3144.590947011284), ('B006PP92H6', 3140.5759378558323), ('B000I0PUT8', 3130.2933839451007), ('B00BBPAOCW', 3123.1903640750434), ('B0011MXVD4', 3121.008755689021), ('B01G7GST94', 3113.7051431504337), ('B00KHJ93NE', 3112.812737604386), ('B00OC8EHR8', 3112.812737604386), ('B000LLI9G0', 3102.008962959924), ('B00162OKDY', 3098.743891783039), ('B00466UK18', 3098.119160134613), ('B003TWXA2Q', 3095.7827040458637), ('B00B8PER6E', 3095.34400360562), ('B0007ZGZWU', 3094.663539229337), ('B0007ZGZY8', 3094.663539229337), ('B001C3S736', 3084.474009663977), ('B0019JMV3A', 3083.483729715768), ('B0085CE1B4', 3080.050759839034), ('B005D7LMGG', 3079.890090533415), ('B009EWIQ7E', 3077.1436410490387), ('B00SRGJ53W', 3074.082937525464), ('B01FHDZGGM', 3072.968442319364), ('B004LR9SDI', 3064.9339047302433), ('B00DOF21OG', 3063.3327167881575), ('B000BS02K4', 3059.9643872663114), ('B005CSYVSW', 3058.6565170093945), ('B003A28P0M', 3053.9447378626555), ('B000OZFJS4', 3052.239631792747), ('B00PP83QQ2', 3047.5502472089597), ('B00H9IFSH6', 3031.461435082205), ('B01780EY2Y', 3029.306298146241), ('B000ES178C', 3025.2363323078876), ('B017KYJB0I', 3021.363365163691), ('B0012QJZTI', 3016.973897108963), ('B015PTBKZE', 3014.9540894760694), ('B0031D0G4I', 3006.0108055609976), ('B00ED3GIV0', 3005.3323664456584), ('B001TS71NG', 3002.3377091932525)]\n"
          ]
        },
        {
          "output_type": "stream",
          "name": "stderr",
          "text": [
            "/usr/local/lib/python3.10/dist-packages/ipykernel/ipkernel.py:283: DeprecationWarning: `should_run_async` will not call `transform_cell` automatically in the future. Please pass the result to `transformed_cell` argument and any exception that happen during thetransform in `preprocessing_exc_tuple` in IPython 7.17 and above.\n",
            "  and should_run_async(code)\n"
          ]
        }
      ]
    },
    {
      "cell_type": "markdown",
      "source": [
        "# 7. Analyse Qualitative sur un Échantillon"
      ],
      "metadata": {
        "id": "vtoOp5Mxp7Ku"
      }
    },
    {
      "cell_type": "code",
      "source": [
        "# Échantillonnage\n",
        "sample = sample_patterns(high_utility_patterns, sample_size=1000)\n",
        "\n",
        "# Analyse statistique\n",
        "utilities_list = analyze_sample(sample)\n",
        "\n",
        "# Visualisation\n",
        "plot_utilities(utilities_list)\n"
      ],
      "metadata": {
        "colab": {
          "base_uri": "https://localhost:8080/",
          "height": 596
        },
        "id": "cjDcZrBSp647",
        "outputId": "3bf89530-ebc2-49e0-a924-d5625fe8e67e"
      },
      "execution_count": 16,
      "outputs": [
        {
          "output_type": "stream",
          "name": "stdout",
          "text": [
            "Nombre total de motifs analysés : 1000\n",
            "Moyenne des utilités : 1073.4235\n",
            "Médiane des utilités : 584.2786\n",
            "Écart-type des utilités : 1875.7051\n"
          ]
        },
        {
          "output_type": "stream",
          "name": "stderr",
          "text": [
            "/usr/local/lib/python3.10/dist-packages/ipykernel/ipkernel.py:283: DeprecationWarning: `should_run_async` will not call `transform_cell` automatically in the future. Please pass the result to `transformed_cell` argument and any exception that happen during thetransform in `preprocessing_exc_tuple` in IPython 7.17 and above.\n",
            "  and should_run_async(code)\n"
          ]
        },
        {
          "output_type": "display_data",
          "data": {
            "text/plain": [
              "<Figure size 640x480 with 1 Axes>"
            ],
            "image/png": "[encoded data removed]"
          },
          "metadata": {}
        }
      ]
    },
    {
      "cell_type": "code",
      "source": [
        "# Extraction avec contraintes de taille\n",
        "frequent_patterns_with_size_constraint = qplus(\n",
        "    transactions,\n",
        "    utilities.to_dict(),\n",
        "    min_utility=5,\n",
        "    max_len=3  # Contrainte de taille (3 items max)\n",
        ")\n",
        "\n",
        "# Extraction sans contraintes de taille\n",
        "frequent_patterns_without_size_constraint = qplus(\n",
        "    transactions,\n",
        "    utilities.to_dict(),\n",
        "    min_utility=5,\n",
        "    max_len=None  # Pas de contrainte\n",
        ")\n",
        "\n",
        "# Résumé des résultats\n",
        "print(f\"Nombre de motifs avec contrainte de taille : {len(frequent_patterns_with_size_constraint)}\")\n",
        "print(f\"Nombre de motifs sans contrainte de taille : {len(frequent_patterns_without_size_constraint)}\")\n"
      ],
      "metadata": {
        "colab": {
          "base_uri": "https://localhost:8080/"
        },
        "id": "a_Wa1TRQaV2A",
        "outputId": "43c4cc2b-e796-452d-d619-be8ea38ebd52"
      },
      "execution_count": 17,
      "outputs": [
        {
          "output_type": "stream",
          "name": "stderr",
          "text": [
            "/usr/local/lib/python3.10/dist-packages/ipykernel/ipkernel.py:283: DeprecationWarning: `should_run_async` will not call `transform_cell` automatically in the future. Please pass the result to `transformed_cell` argument and any exception that happen during thetransform in `preprocessing_exc_tuple` in IPython 7.17 and above.\n",
            "  and should_run_async(code)\n"
          ]
        },
        {
          "output_type": "stream",
          "name": "stdout",
          "text": [
            "Nombre de motifs avec contrainte de taille : 44081\n",
            "Nombre de motifs sans contrainte de taille : 49796\n"
          ]
        }
      ]
    },
    {
      "cell_type": "code",
      "source": [
        "import numpy as np\n",
        "# Extraction des supports\n",
        "supports_with_constraint = [pattern[1] for pattern in high_utility_patterns]\n",
        "supports_without_constraint = [pattern[1] for pattern in high_utility_patterns_no_constraints]\n",
        "\n",
        "# Moyenne et médiane\n",
        "print(f\"Moyenne des supports (avec contrainte) : {np.mean(supports_with_constraint):.4f}\")\n",
        "print(f\"Médiane des supports (avec contrainte) : {np.median(supports_with_constraint):.4f}\")\n",
        "print(f\"Moyenne des supports (sans contrainte) : {np.mean(supports_without_constraint):.4f}\")\n",
        "print(f\"Médiane des supports (sans contrainte) : {np.median(supports_without_constraint):.4f}\")\n"
      ],
      "metadata": {
        "colab": {
          "base_uri": "https://localhost:8080/"
        },
        "id": "jeDL7ogC0jcW",
        "outputId": "c8d9f52e-28e4-4723-f6de-314251082d5e"
      },
      "execution_count": 18,
      "outputs": [
        {
          "output_type": "stream",
          "name": "stdout",
          "text": [
            "Moyenne des supports (avec contrainte) : 1175.5982\n",
            "Médiane des supports (avec contrainte) : 587.2747\n",
            "Moyenne des supports (sans contrainte) : 2177.3226\n",
            "Médiane des supports (sans contrainte) : 1100.9351\n"
          ]
        },
        {
          "output_type": "stream",
          "name": "stderr",
          "text": [
            "/usr/local/lib/python3.10/dist-packages/ipykernel/ipkernel.py:283: DeprecationWarning: `should_run_async` will not call `transform_cell` automatically in the future. Please pass the result to `transformed_cell` argument and any exception that happen during thetransform in `preprocessing_exc_tuple` in IPython 7.17 and above.\n",
            "  and should_run_async(code)\n"
          ]
        }
      ]
    },
    {
      "cell_type": "code",
      "source": [
        "import numpy as np\n",
        "\n",
        "# Initialisation des listes pour stocker les utilités\n",
        "utilities_with_constraint = []\n",
        "utilities_without_constraint = []\n",
        "\n",
        "# Extraction des utilités pour les motifs avec contrainte\n",
        "for pattern in high_utility_patterns:\n",
        "    if isinstance(pattern[0], tuple):  # Si le motif est un tuple d'items\n",
        "        utility = sum(utilities.get(item, 0) for item in pattern[0])\n",
        "    else:  # Si le motif est un seul item\n",
        "        utility = utilities.get(pattern[0], 0)\n",
        "    utilities_with_constraint.append(utility)\n",
        "\n",
        "# Extraction des utilités pour les motifs sans contrainte\n",
        "for pattern in high_utility_patterns_no_constraints:\n",
        "    if isinstance(pattern[0], tuple):  # Si le motif est un tuple d'items\n",
        "        utility = sum(utilities.get(item, 0) for item in pattern[0])\n",
        "    else:  # Si le motif est un seul item\n",
        "        utility = utilities.get(pattern[0], 0)\n",
        "    utilities_without_constraint.append(utility)\n",
        "\n",
        "# Calcul des moyennes et médianes\n",
        "mean_utility_with_constraint = np.mean(utilities_with_constraint)\n",
        "median_utility_with_constraint = np.median(utilities_with_constraint)\n",
        "mean_utility_without_constraint = np.mean(utilities_without_constraint)\n",
        "median_utility_without_constraint = np.median(utilities_without_constraint)\n",
        "\n",
        "# Affichage des résultats\n",
        "print(f\"Moyenne des utilités (avec contrainte) : {mean_utility_with_constraint:.4f}\")\n",
        "print(f\"Médiane des utilités (avec contrainte) : {median_utility_with_constraint:.4f}\")\n",
        "print(f\"Moyenne des utilités (sans contrainte) : {mean_utility_without_constraint:.4f}\")\n",
        "print(f\"Médiane des utilités (sans contrainte) : {median_utility_without_constraint:.4f}\")\n"
      ],
      "metadata": {
        "colab": {
          "base_uri": "https://localhost:8080/"
        },
        "id": "CPF-rQ6k0o-s",
        "outputId": "12f48679-5887-483f-e415-42600a912a53"
      },
      "execution_count": 19,
      "outputs": [
        {
          "output_type": "stream",
          "name": "stdout",
          "text": [
            "Moyenne des utilités (avec contrainte) : 19.0815\n",
            "Médiane des utilités (avec contrainte) : 18.4434\n",
            "Moyenne des utilités (sans contrainte) : 19.1803\n",
            "Médiane des utilités (sans contrainte) : 18.4102\n"
          ]
        },
        {
          "output_type": "stream",
          "name": "stderr",
          "text": [
            "/usr/local/lib/python3.10/dist-packages/ipykernel/ipkernel.py:283: DeprecationWarning: `should_run_async` will not call `transform_cell` automatically in the future. Please pass the result to `transformed_cell` argument and any exception that happen during thetransform in `preprocessing_exc_tuple` in IPython 7.17 and above.\n",
            "  and should_run_async(code)\n"
          ]
        }
      ]
    }
  ],
  "metadata": {
    "colab": {
      "provenance": []
    },
    "kernelspec": {
      "display_name": "Python 3",
      "name": "python3"
    },
    "language_info": {
      "codemirror_mode": {
        "name": "ipython",
        "version": 3
      },
      "file_extension": ".py",
      "mimetype": "text/x-python",
      "name": "python",
      "nbconvert_exporter": "python",
      "pygments_lexer": "ipython3",
      "version": "3.12.4"
    }
  },
  "nbformat": 4,
  "nbformat_minor": 0
}